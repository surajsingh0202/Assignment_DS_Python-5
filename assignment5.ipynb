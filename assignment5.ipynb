{
 "cells": [
  {
   "cell_type": "code",
   "execution_count": 1,
   "id": "306e0706-b589-4e72-83a3-cc5e3becd06a",
   "metadata": {},
   "outputs": [],
   "source": [
    "\"\"\"Q1, Create a vehicle class with an init method having instance variables as name_of_vehicle, max_speed\n",
    "and average_of_vehicle.\n",
    "\"\"\"\n",
    "\n",
    "\n",
    "class vehicle :\n",
    "    \n",
    "    def __init__(self , name_of_vehicle , max_speed , average_of_vehicle):\n",
    "        self.__name_of_vehicle = name_of_vehicle\n",
    "        self.__max_speed = max_speed\n",
    "        self.__average_of_vehicle = average_of_vehicle"
   ]
  },
  {
   "cell_type": "code",
   "execution_count": 2,
   "id": "07a76ebd-23f1-41c9-a77d-1f5cf5b39985",
   "metadata": {},
   "outputs": [],
   "source": [
    "v = vehicle(\"Fortuner\" , 220 , 9)"
   ]
  },
  {
   "cell_type": "code",
   "execution_count": 5,
   "id": "b1a828bb-0867-4afe-99c9-625e55a88876",
   "metadata": {},
   "outputs": [
    {
     "data": {
      "text/plain": [
       "220"
      ]
     },
     "execution_count": 5,
     "metadata": {},
     "output_type": "execute_result"
    }
   ],
   "source": [
    "v._vehicle__max_speed"
   ]
  },
  {
   "cell_type": "code",
   "execution_count": 6,
   "id": "c1ce0f01-ad09-4442-910a-60d7ea4a7ec5",
   "metadata": {},
   "outputs": [],
   "source": [
    "\"\"\" Q2. Create a child class car from the vehicle class created in Que 1, which will inherit the vehicle class.\n",
    "Create a method named seating_capacity which takes capacity as an argument and returns the name of\n",
    "the vehicle and its seating capacity.\n",
    "\"\"\"\n",
    "\n",
    "\n",
    "class vehicle :\n",
    "    \n",
    "    def __init__(self , name_of_vehicle , max_speed , average_of_vehicle):\n",
    "        self.name_of_vehicle = name_of_vehicle\n",
    "        self.max_speed = max_speed\n",
    "        self.average_of_vehicle = average_of_vehicle\n",
    "        \n",
    "    def seating_capacity(self , capacity):\n",
    "        return f\"The seating capacity of a {self.name_of_vehicle} is {capacity} passengers\""
   ]
  },
  {
   "cell_type": "code",
   "execution_count": 7,
   "id": "22447d87-7b6c-4adf-a292-c673dbb8055e",
   "metadata": {},
   "outputs": [
    {
     "data": {
      "text/plain": [
       "'The seating capacity of a car is 7 passengers'"
      ]
     },
     "execution_count": 7,
     "metadata": {},
     "output_type": "execute_result"
    }
   ],
   "source": [
    "class car( vehicle):\n",
    "    \n",
    "    def seating_capacity(self , capacity = 7):\n",
    "        return f\"The seating capacity of a {self.name_of_vehicle} is {capacity} passengers\"\n",
    "    \n",
    "car(\"car\", 120, 2990).seating_capacity()"
   ]
  },
  {
   "cell_type": "code",
   "execution_count": 8,
   "id": "c42145bd-cc38-42e0-b86d-eec58453a6a4",
   "metadata": {},
   "outputs": [],
   "source": [
    "\"\"\"Q3. What is multiple inheritance? Write a python code to demonstrate multiple inheritance.\n",
    "\"\"\"\n",
    "\n",
    "\n",
    "\"\"\"When a class is derived from more than one base class it is called multiple Inheritance. \n",
    "The derived class inherits all the features of the base case\n",
    "\"\"\"\n",
    "\n",
    "class test1 :\n",
    "    \n",
    "    def test1(self):\n",
    "        return \"this is my test1\""
   ]
  },
  {
   "cell_type": "code",
   "execution_count": 9,
   "id": "7b8e3928-2bb3-4308-aabb-57575c38afd2",
   "metadata": {},
   "outputs": [],
   "source": [
    "class test2(test1):\n",
    "    \n",
    "    def test2(self):\n",
    "        return \"this is my test2\""
   ]
  },
  {
   "cell_type": "code",
   "execution_count": 10,
   "id": "2df85154-2f33-4483-8c38-27c0352a0ea6",
   "metadata": {},
   "outputs": [],
   "source": [
    "class test3(test2):\n",
    "    def test3(self):\n",
    "        return \"this is my test3\""
   ]
  },
  {
   "cell_type": "code",
   "execution_count": 11,
   "id": "413d23c7-0c0c-45b9-9620-34c7c7f42ebc",
   "metadata": {},
   "outputs": [],
   "source": [
    "t3 = test3()"
   ]
  },
  {
   "cell_type": "code",
   "execution_count": 12,
   "id": "65a7df84-c009-4ff8-83ff-964b343bbec3",
   "metadata": {},
   "outputs": [
    {
     "data": {
      "text/plain": [
       "'this is my test1'"
      ]
     },
     "execution_count": 12,
     "metadata": {},
     "output_type": "execute_result"
    }
   ],
   "source": [
    "t3.test1()"
   ]
  },
  {
   "cell_type": "code",
   "execution_count": 13,
   "id": "5b662e89-f56f-4105-9c36-fcd4c31bc3d3",
   "metadata": {},
   "outputs": [
    {
     "data": {
      "text/plain": [
       "'this is my test2'"
      ]
     },
     "execution_count": 13,
     "metadata": {},
     "output_type": "execute_result"
    }
   ],
   "source": [
    "t3.test2()"
   ]
  },
  {
   "cell_type": "code",
   "execution_count": 14,
   "id": "4cfacb0a-a650-42c4-8eda-65b45b2ce917",
   "metadata": {},
   "outputs": [
    {
     "data": {
      "text/plain": [
       "'this is my test3'"
      ]
     },
     "execution_count": 14,
     "metadata": {},
     "output_type": "execute_result"
    }
   ],
   "source": [
    "t3.test3()"
   ]
  },
  {
   "cell_type": "code",
   "execution_count": 15,
   "id": "761d1ea0-ebe5-4e65-b6bf-4bc46386002a",
   "metadata": {},
   "outputs": [
    {
     "name": "stdout",
     "output_type": "stream",
     "text": [
      "21\n",
      "21\n"
     ]
    }
   ],
   "source": [
    "\"\"\"Q4. What are getter and setter in python? Create a class and create a getter and a setter method in this\n",
    "class.\n",
    "\"\"\"\n",
    "\n",
    "\"\"\" Getters: These are the methods used in Object-Oriented Programming (OOPS) which helps to access the private attributes from a class. \n",
    "Setters: These are the methods used in OOPS feature which helps to set the value to private attributes in a class.\n",
    "\"\"\"\n",
    "class test5: \n",
    "    def __init__(self, age = 0): \n",
    "         self._age = age \n",
    "      \n",
    "    # getter method \n",
    "    def get_age(self): \n",
    "        return self._age \n",
    "      \n",
    "    # setter method \n",
    "    def set_age(self, x): \n",
    "        self._age = x \n",
    "  \n",
    "t5 = test5() \n",
    "  \n",
    "# setting the age using setter \n",
    "t5.set_age(21) \n",
    "  \n",
    "# retrieving age using getter \n",
    "print(t5.get_age()) \n",
    "  \n",
    "print(t5._age) "
   ]
  },
  {
   "cell_type": "code",
   "execution_count": 16,
   "id": "e7de4343-e533-472f-835d-8766e51c4569",
   "metadata": {},
   "outputs": [
    {
     "name": "stdout",
     "output_type": "stream",
     "text": [
      "The method Walk here is overridden in the code\n",
      "Hello, I am the child class\n",
      "Hello, I am the parent class\n"
     ]
    }
   ],
   "source": [
    "\"\"\"Q5.What is method overriding in python? Write a python code to demonstrate method overriding.\n",
    "\"\"\"\n",
    "\n",
    "\n",
    "\"\"\"Method overriding in Python is when you have two methods with the same name that each perform different tasks. \n",
    "This is an important feature of inheritance in Python. \n",
    "In method overriding, the child class can change its functions that are defined by its ancestral classes.\n",
    "\n",
    "\"\"\"\n",
    "class Animal:\n",
    "    def Walk(self):\n",
    "        print('Hello, I am the parent class')\n",
    "\n",
    "class Dog(Animal):\n",
    "    def Walk(self):\n",
    "        print('Hello, I am the child class')\n",
    "        \n",
    "print('The method Walk here is overridden in the code')\n",
    "\n",
    "#Invoking Child class through object r\n",
    "\n",
    "r = Dog()\n",
    "r.Walk()\n",
    "\n",
    "#Invoking Parent class through object r\n",
    "\n",
    "r = Animal()\n",
    "r.Walk()\n"
   ]
  },
  {
   "cell_type": "code",
   "execution_count": null,
   "id": "73368463-4a84-44d3-bc3d-5af3e85d3883",
   "metadata": {},
   "outputs": [],
   "source": []
  }
 ],
 "metadata": {
  "kernelspec": {
   "display_name": "Python 3 (ipykernel)",
   "language": "python",
   "name": "python3"
  },
  "language_info": {
   "codemirror_mode": {
    "name": "ipython",
    "version": 3
   },
   "file_extension": ".py",
   "mimetype": "text/x-python",
   "name": "python",
   "nbconvert_exporter": "python",
   "pygments_lexer": "ipython3",
   "version": "3.10.8"
  }
 },
 "nbformat": 4,
 "nbformat_minor": 5
}
